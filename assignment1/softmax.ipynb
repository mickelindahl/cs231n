{
 "cells": [
  {
   "cell_type": "markdown",
   "metadata": {
    "tags": [
     "pdf-title"
    ]
   },
   "source": [
    "# Softmax exercise\n",
    "\n",
    "*Complete and hand in this completed worksheet (including its outputs and any supporting code outside of the worksheet) with your assignment submission. For more details see the [assignments page](http://vision.stanford.edu/teaching/cs231n/assignments.html) on the course website.*\n",
    "\n",
    "This exercise is analogous to the SVM exercise. You will:\n",
    "\n",
    "- implement a fully-vectorized **loss function** for the Softmax classifier\n",
    "- implement the fully-vectorized expression for its **analytic gradient**\n",
    "- **check your implementation** with numerical gradient\n",
    "- use a validation set to **tune the learning rate and regularization** strength\n",
    "- **optimize** the loss function with **SGD**\n",
    "- **visualize** the final learned weights\n"
   ]
  },
  {
   "cell_type": "code",
   "execution_count": 1,
   "metadata": {
    "tags": [
     "pdf-ignore"
    ]
   },
   "outputs": [],
   "source": [
    "import random\n",
    "import numpy as np\n",
    "from cs231n.data_utils import load_CIFAR10\n",
    "import matplotlib.pyplot as plt\n",
    "\n",
    "%matplotlib inline\n",
    "plt.rcParams['figure.figsize'] = (10.0, 8.0) # set default size of plots\n",
    "plt.rcParams['image.interpolation'] = 'nearest'\n",
    "plt.rcParams['image.cmap'] = 'gray'\n",
    "\n",
    "# for auto-reloading extenrnal modules\n",
    "# see http://stackoverflow.com/questions/1907993/autoreload-of-modules-in-ipython\n",
    "%load_ext autoreload\n",
    "%autoreload 2"
   ]
  },
  {
   "cell_type": "code",
   "execution_count": 2,
   "metadata": {
    "tags": [
     "pdf-ignore"
    ]
   },
   "outputs": [
    {
     "name": "stdout",
     "output_type": "stream",
     "text": [
      "Train data shape:  (49000, 3073)\n",
      "Train labels shape:  (49000,)\n",
      "Validation data shape:  (1000, 3073)\n",
      "Validation labels shape:  (1000,)\n",
      "Test data shape:  (1000, 3073)\n",
      "Test labels shape:  (1000,)\n",
      "dev data shape:  (500, 3073)\n",
      "dev labels shape:  (500,)\n"
     ]
    }
   ],
   "source": [
    "def get_CIFAR10_data(num_training=49000, num_validation=1000, num_test=1000, num_dev=500):\n",
    "    \"\"\"\n",
    "    Load the CIFAR-10 dataset from disk and perform preprocessing to prepare\n",
    "    it for the linear classifier. These are the same steps as we used for the\n",
    "    SVM, but condensed to a single function.  \n",
    "    \"\"\"\n",
    "    # Load the raw CIFAR-10 data\n",
    "    cifar10_dir = 'cs231n/datasets/cifar-10-batches-py'\n",
    "    \n",
    "    # Cleaning up variables to prevent loading data multiple times (which may cause memory issue)\n",
    "    try:\n",
    "       del X_train, y_train\n",
    "       del X_test, y_test\n",
    "       print('Clear previously loaded data.')\n",
    "    except:\n",
    "       pass\n",
    "\n",
    "    X_train, y_train, X_test, y_test = load_CIFAR10(cifar10_dir)\n",
    "    \n",
    "    # subsample the data\n",
    "    mask = list(range(num_training, num_training + num_validation))\n",
    "    X_val = X_train[mask]\n",
    "    y_val = y_train[mask]\n",
    "    mask = list(range(num_training))\n",
    "    X_train = X_train[mask]\n",
    "    y_train = y_train[mask]\n",
    "    mask = list(range(num_test))\n",
    "    X_test = X_test[mask]\n",
    "    y_test = y_test[mask]\n",
    "    mask = np.random.choice(num_training, num_dev, replace=False)\n",
    "    X_dev = X_train[mask]\n",
    "    y_dev = y_train[mask]\n",
    "    \n",
    "    # Preprocessing: reshape the image data into rows\n",
    "    X_train = np.reshape(X_train, (X_train.shape[0], -1))\n",
    "    X_val = np.reshape(X_val, (X_val.shape[0], -1))\n",
    "    X_test = np.reshape(X_test, (X_test.shape[0], -1))\n",
    "    X_dev = np.reshape(X_dev, (X_dev.shape[0], -1))\n",
    "    \n",
    "    # Normalize the data: subtract the mean image\n",
    "    mean_image = np.mean(X_train, axis = 0)\n",
    "    X_train -= mean_image\n",
    "    X_val -= mean_image\n",
    "    X_test -= mean_image\n",
    "    X_dev -= mean_image\n",
    "    \n",
    "    # add bias dimension and transform into columns\n",
    "    X_train = np.hstack([X_train, np.ones((X_train.shape[0], 1))])\n",
    "    X_val = np.hstack([X_val, np.ones((X_val.shape[0], 1))])\n",
    "    X_test = np.hstack([X_test, np.ones((X_test.shape[0], 1))])\n",
    "    X_dev = np.hstack([X_dev, np.ones((X_dev.shape[0], 1))])\n",
    "    \n",
    "    return X_train, y_train, X_val, y_val, X_test, y_test, X_dev, y_dev\n",
    "\n",
    "\n",
    "# Invoke the above function to get our data.\n",
    "X_train, y_train, X_val, y_val, X_test, y_test, X_dev, y_dev = get_CIFAR10_data()\n",
    "print('Train data shape: ', X_train.shape)\n",
    "print('Train labels shape: ', y_train.shape)\n",
    "print('Validation data shape: ', X_val.shape)\n",
    "print('Validation labels shape: ', y_val.shape)\n",
    "print('Test data shape: ', X_test.shape)\n",
    "print('Test labels shape: ', y_test.shape)\n",
    "print('dev data shape: ', X_dev.shape)\n",
    "print('dev labels shape: ', y_dev.shape)"
   ]
  },
  {
   "cell_type": "markdown",
   "metadata": {},
   "source": [
    "## Softmax Classifier\n",
    "\n",
    "Your code for this section will all be written inside `cs231n/classifiers/softmax.py`.\n"
   ]
  },
  {
   "cell_type": "code",
   "execution_count": 3,
   "metadata": {},
   "outputs": [
    {
     "name": "stdout",
     "output_type": "stream",
     "text": [
      "loss: 2.342189\n",
      "sanity check: 2.302585\n"
     ]
    }
   ],
   "source": [
    "# First implement the naive softmax loss function with nested loops.\n",
    "# Open the file cs231n/classifiers/softmax.py and implement the\n",
    "# softmax_loss_naive function.\n",
    "\n",
    "from cs231n.classifiers.softmax import softmax_loss_naive\n",
    "import time\n",
    "\n",
    "# Generate a random softmax weight matrix and use it to compute the loss.\n",
    "W = np.random.randn(3073, 10) * 0.0001\n",
    "loss, grad = softmax_loss_naive(W, X_dev, y_dev, 0.0)\n",
    "\n",
    "# As a rough sanity check, our loss should be something close to -log(0.1).\n",
    "print('loss: %f' % loss)\n",
    "print('sanity check: %f' % (-np.log(0.1)))"
   ]
  },
  {
   "cell_type": "markdown",
   "metadata": {
    "tags": [
     "pdf-inline"
    ]
   },
   "source": [
    "**Inline Question 1**\n",
    "\n",
    "Why do we expect our loss to be close to -log(0.1)? Explain briefly.**\n",
    "\n",
    "$\\color{blue}{\\textit Your Answer:}$ Since the starting weights are close to zero which gives scores for each clas close to zero. With e⁰=1 we have that the probability for each clas should be around 1/N_classes=1/10. Such that the expected loss will be -log(0.1) \n",
    "\n"
   ]
  },
  {
   "cell_type": "code",
   "execution_count": 4,
   "metadata": {},
   "outputs": [
    {
     "name": "stdout",
     "output_type": "stream",
     "text": [
      "numerical: -1.073986 analytic: -1.073986, relative error: 3.038319e-08\n",
      "numerical: 1.198007 analytic: 1.198007, relative error: 8.882079e-08\n",
      "numerical: 2.194031 analytic: 2.194031, relative error: 1.172351e-08\n",
      "numerical: 0.037817 analytic: 0.037817, relative error: 6.940167e-07\n",
      "numerical: 0.484629 analytic: 0.484629, relative error: 7.714141e-11\n",
      "numerical: 1.745746 analytic: 1.745746, relative error: 5.079728e-08\n",
      "numerical: 0.987555 analytic: 0.987555, relative error: 2.683291e-08\n",
      "numerical: -0.003132 analytic: -0.003132, relative error: 1.376107e-05\n",
      "numerical: 2.840955 analytic: 2.840955, relative error: 5.198697e-09\n",
      "numerical: -0.734948 analytic: -0.734948, relative error: 4.036349e-08\n",
      "numerical: 1.149405 analytic: 1.149405, relative error: 2.156111e-08\n",
      "numerical: 1.710721 analytic: 1.710721, relative error: 8.710458e-09\n",
      "numerical: -4.931241 analytic: -4.931241, relative error: 6.476020e-11\n",
      "numerical: -3.069538 analytic: -3.069538, relative error: 3.480312e-08\n",
      "numerical: -0.226406 analytic: -0.226407, relative error: 1.169476e-07\n",
      "numerical: -1.085252 analytic: -1.085252, relative error: 1.743636e-08\n",
      "numerical: -1.183862 analytic: -1.183862, relative error: 1.654292e-08\n",
      "numerical: -0.582721 analytic: -0.582721, relative error: 4.813109e-08\n",
      "numerical: -0.268349 analytic: -0.268349, relative error: 2.213272e-07\n",
      "numerical: -0.176023 analytic: -0.176023, relative error: 1.046876e-07\n"
     ]
    }
   ],
   "source": [
    "# Complete the implementation of softmax_loss_naive and implement a (naive)\n",
    "# version of the gradient that uses nested loops.\n",
    "loss, grad = softmax_loss_naive(W, X_dev, y_dev, 0.0)\n",
    "\n",
    "# As we did for the SVM, use numeric gradient checking as a debugging tool.\n",
    "# The numeric gradient should be close to the analytic gradient.\n",
    "from cs231n.gradient_check import grad_check_sparse\n",
    "f = lambda w: softmax_loss_naive(w, X_dev, y_dev, 0.0)[0]\n",
    "grad_numerical = grad_check_sparse(f, W, grad, 10)\n",
    "\n",
    "# similar to SVM case, do another gradient check with regularization\n",
    "loss, grad = softmax_loss_naive(W, X_dev, y_dev, 5e1)\n",
    "f = lambda w: softmax_loss_naive(w, X_dev, y_dev, 5e1)[0]\n",
    "grad_numerical = grad_check_sparse(f, W, grad, 10)"
   ]
  },
  {
   "cell_type": "code",
   "execution_count": 25,
   "metadata": {},
   "outputs": [
    {
     "name": "stdout",
     "output_type": "stream",
     "text": [
      "naive loss: 2.342189e+00 computed in 0.169448s\n",
      "vectorized loss: 2.342189e+00 computed in 0.003767s\n",
      "Loss difference: 0.000000\n",
      "Gradient difference: 0.000000\n"
     ]
    }
   ],
   "source": [
    "# Now that we have a naive implementation of the softmax loss function and its gradient,\n",
    "# implement a vectorized version in softmax_loss_vectorized.\n",
    "# The two versions should compute the same results, but the vectorized version should be\n",
    "# much faster.\n",
    "tic = time.time()\n",
    "loss_naive, grad_naive = softmax_loss_naive(W, X_dev, y_dev, 0.000005)\n",
    "toc = time.time()\n",
    "print('naive loss: %e computed in %fs' % (loss_naive, toc - tic))\n",
    "\n",
    "from cs231n.classifiers.softmax import softmax_loss_vectorized\n",
    "tic = time.time()\n",
    "loss_vectorized, grad_vectorized = softmax_loss_vectorized(W, X_dev, y_dev, 0.000005)\n",
    "toc = time.time()\n",
    "print('vectorized loss: %e computed in %fs' % (loss_vectorized, toc - tic))\n",
    "\n",
    "\n",
    "# As we did for the SVM, we use the Frobenius norm to compare the two versions\n",
    "# of the gradient.\n",
    "grad_difference = np.linalg.norm(grad_naive - grad_vectorized, ord='fro')\n",
    "print('Loss difference: %f' % np.abs(loss_naive - loss_vectorized))\n",
    "print('Gradient difference: %f' % grad_difference)"
   ]
  },
  {
   "cell_type": "code",
   "execution_count": 29,
   "metadata": {
    "id": "tuning",
    "tags": [
     "code"
    ]
   },
   "outputs": [
    {
     "name": "stdout",
     "output_type": "stream",
     "text": [
      "iteration 0 / 1500: loss 5.480648\n",
      "iteration 100 / 1500: loss 3.330146\n",
      "iteration 200 / 1500: loss 2.775105\n",
      "iteration 300 / 1500: loss 2.412512\n",
      "iteration 400 / 1500: loss 2.143107\n",
      "iteration 500 / 1500: loss 2.214391\n",
      "iteration 600 / 1500: loss 1.968143\n",
      "iteration 700 / 1500: loss 1.942435\n",
      "iteration 800 / 1500: loss 1.902783\n",
      "iteration 900 / 1500: loss 1.893824\n",
      "iteration 1000 / 1500: loss 1.966071\n",
      "iteration 1100 / 1500: loss 1.934316\n",
      "iteration 1200 / 1500: loss 1.947577\n",
      "iteration 1300 / 1500: loss 1.884174\n",
      "iteration 1400 / 1500: loss 1.902687\n",
      "That took 5.266212s\n",
      "iteration 0 / 1500: loss 6.565201\n",
      "iteration 100 / 1500: loss 3.315449\n",
      "iteration 200 / 1500: loss 2.526561\n",
      "iteration 300 / 1500: loss 2.335052\n",
      "iteration 400 / 1500: loss 2.133508\n",
      "iteration 500 / 1500: loss 1.955085\n",
      "iteration 600 / 1500: loss 1.958419\n",
      "iteration 700 / 1500: loss 1.964826\n",
      "iteration 800 / 1500: loss 1.927622\n",
      "iteration 900 / 1500: loss 1.918430\n",
      "iteration 1000 / 1500: loss 1.974653\n",
      "iteration 1100 / 1500: loss 2.006276\n",
      "iteration 1200 / 1500: loss 2.005011\n",
      "iteration 1300 / 1500: loss 1.975439\n",
      "iteration 1400 / 1500: loss 2.039077\n",
      "That took 4.921121s\n",
      "iteration 0 / 1500: loss 5.711023\n",
      "iteration 100 / 1500: loss 2.834279\n",
      "iteration 200 / 1500: loss 2.377479\n",
      "iteration 300 / 1500: loss 2.236148\n",
      "iteration 400 / 1500: loss 2.041848\n",
      "iteration 500 / 1500: loss 2.031519\n",
      "iteration 600 / 1500: loss 1.999375\n",
      "iteration 700 / 1500: loss 1.933081\n",
      "iteration 800 / 1500: loss 1.967397\n",
      "iteration 900 / 1500: loss 1.885447\n",
      "iteration 1000 / 1500: loss 1.954778\n",
      "iteration 1100 / 1500: loss 1.982380\n",
      "iteration 1200 / 1500: loss 1.894975\n",
      "iteration 1300 / 1500: loss 1.877987\n",
      "iteration 1400 / 1500: loss 1.922979\n",
      "That took 5.468508s\n",
      "iteration 0 / 1500: loss 5.649015\n",
      "iteration 100 / 1500: loss 2.822972\n",
      "iteration 200 / 1500: loss 2.170588\n",
      "iteration 300 / 1500: loss 1.993079\n",
      "iteration 400 / 1500: loss 2.010250\n",
      "iteration 500 / 1500: loss 1.890854\n",
      "iteration 600 / 1500: loss 1.962099\n",
      "iteration 700 / 1500: loss 1.924532\n",
      "iteration 800 / 1500: loss 1.944107\n",
      "iteration 900 / 1500: loss 1.868006\n",
      "iteration 1000 / 1500: loss 1.931144\n",
      "iteration 1100 / 1500: loss 1.913350\n",
      "iteration 1200 / 1500: loss 2.000317\n",
      "iteration 1300 / 1500: loss 2.008768\n",
      "iteration 1400 / 1500: loss 1.964714\n",
      "That took 5.227165s\n",
      "lr 1.000000e-07 reg 1.000000e+04 train accuracy: 0.352245 val accuracy: 0.369000\n",
      "lr 1.000000e-07 reg 1.500000e+04 train accuracy: 0.348367 val accuracy: 0.355000\n",
      "lr 1.500000e-07 reg 1.000000e+04 train accuracy: 0.356184 val accuracy: 0.375000\n",
      "lr 1.500000e-07 reg 1.500000e+04 train accuracy: 0.341551 val accuracy: 0.355000\n",
      "best validation accuracy achieved during cross-validation: 1.911453\n"
     ]
    }
   ],
   "source": [
    "# Use the validation set to tune hyperparameters (regularization strength and\n",
    "# learning rate). You should experiment with different ranges for the learning\n",
    "# rates and regularization strengths; if you are careful you should be able to\n",
    "# get a classification accuracy of over 0.35 on the validation set.\n",
    "\n",
    "from cs231n.classifiers import Softmax\n",
    "results = {}\n",
    "best_val = -1\n",
    "best_softmax = None\n",
    "\n",
    "################################################################################\n",
    "# TODO:                                                                        #\n",
    "# Use the validation set to set the learning rate and regularization strength. #\n",
    "# This should be identical to the validation that you did for the SVM; save    #\n",
    "# the best trained softmax classifer in best_softmax.                          #\n",
    "################################################################################\n",
    "\n",
    "# Provided as a reference. You may or may not want to change these hyperparameters\n",
    "learning_rates = [1e-7, 1.5e-7]\n",
    "regularization_strengths = [1e4, 1.5e4]\n",
    "\n",
    "# *****START OF YOUR CODE (DO NOT DELETE/MODIFY THIS LINE)*****\n",
    "\n",
    "for learning_rate in learning_rates:\n",
    "    for regularization_strength in regularization_strengths:\n",
    "        \n",
    "        softmax = Softmax()\n",
    "        tic = time.time()\n",
    "        loss_hist = softmax.train(X_train, y_train, learning_rate=learning_rate, \n",
    "                              reg=regularization_strength,\n",
    "                              num_iters=1500, verbose=True)\n",
    "        toc = time.time()\n",
    "        print('That took %fs' % (toc - tic))\n",
    "\n",
    "        y_train_pred = softmax.predict(X_train)\n",
    "        training_accuracy =np.mean(y_train == y_train_pred)\n",
    "        y_val_pred = softmax.predict(X_val)\n",
    "        validation_accuracy =np.mean(y_val == y_val_pred)\n",
    "        \n",
    "        results[(learning_rate, regularization_strength)]=(training_accuracy, validation_accuracy)\n",
    "        \n",
    "        if best_val==-1 or best_val>loss_hist[-1]:\n",
    "            best_val = loss_hist[-1]   # The highest validation accuracy that we have seen so far.\n",
    "            best_softmax = softmax\n",
    "\n",
    "# *****END OF YOUR CODE (DO NOT DELETE/MODIFY THIS LINE)*****\n",
    "    \n",
    "# Print out results.\n",
    "for lr, reg in sorted(results):\n",
    "    train_accuracy, val_accuracy = results[(lr, reg)]\n",
    "    print('lr %e reg %e train accuracy: %f val accuracy: %f' % (\n",
    "                lr, reg, train_accuracy, val_accuracy))\n",
    "    \n",
    "print('best validation accuracy achieved during cross-validation: %f' % best_val)"
   ]
  },
  {
   "cell_type": "code",
   "execution_count": null,
   "metadata": {
    "id": "test"
   },
   "outputs": [],
   "source": [
    "# evaluate on test set\n",
    "# Evaluate the best softmax on test set\n",
    "y_test_pred = best_softmax.predict(X_test)\n",
    "test_accuracy = np.mean(y_test == y_test_pred)\n",
    "print('softmax on raw pixels final test set accuracy: %f' % (test_accuracy, ))"
   ]
  },
  {
   "cell_type": "markdown",
   "metadata": {
    "tags": [
     "pdf-inline"
    ]
   },
   "source": [
    "**Inline Question 2** - *True or False*\n",
    "\n",
    "Suppose the overall training loss is defined as the sum of the per-datapoint loss over all training examples. It is possible to add a new datapoint to a training set that would leave the SVM loss unchanged, but this is not the case with the Softmax classifier loss.\n",
    "\n",
    "$\\color{blue}{\\textit Your Answer:}$ Yes  \n",
    "\n",
    "\n",
    "$\\color{blue}{\\textit Your Explanation:}$ If the s_j-s_y < -1 and then we change x there is a posibkuty that the s_j-s_y is still below -1 and then it will not affetc loss functions. This is not the case for softmax witch is always always change when x changes \n",
    "\n"
   ]
  },
  {
   "cell_type": "code",
   "execution_count": 30,
   "metadata": {},
   "outputs": [
    {
     "data": {
      "image/png": "[encoded data removed]",
      "text/plain": [
       "<Figure size 432x288 with 10 Axes>"
      ]
     },
     "metadata": {
      "needs_background": "light"
     },
     "output_type": "display_data"
    }
   ],
   "source": [
    "# Visualize the learned weights for each class\n",
    "w = best_softmax.W[:-1,:] # strip out the bias\n",
    "w = w.reshape(32, 32, 3, 10)\n",
    "\n",
    "w_min, w_max = np.min(w), np.max(w)\n",
    "\n",
    "classes = ['plane', 'car', 'bird', 'cat', 'deer', 'dog', 'frog', 'horse', 'ship', 'truck']\n",
    "for i in range(10):\n",
    "    plt.subplot(2, 5, i + 1)\n",
    "    \n",
    "    # Rescale the weights to be between 0 and 255\n",
    "    wimg = 255.0 * (w[:, :, :, i].squeeze() - w_min) / (w_max - w_min)\n",
    "    plt.imshow(wimg.astype('uint8'))\n",
    "    plt.axis('off')\n",
    "    plt.title(classes[i])"
   ]
  },
  {
   "cell_type": "code",
   "execution_count": null,
   "metadata": {},
   "outputs": [],
   "source": []
  }
 ],
 "metadata": {
  "kernelspec": {
   "display_name": "Python 3",
   "language": "python",
   "name": "python3"
  },
  "language_info": {
   "codemirror_mode": {
    "name": "ipython",
    "version": 3
   },
   "file_extension": ".py",
   "mimetype": "text/x-python",
   "name": "python",
   "nbconvert_exporter": "python",
   "pygments_lexer": "ipython3",
   "version": "3.7.10"
  }
 },
 "nbformat": 4,
 "nbformat_minor": 1
}
